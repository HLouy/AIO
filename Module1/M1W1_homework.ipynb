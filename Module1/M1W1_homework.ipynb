{
 "cells": [
  {
   "cell_type": "markdown",
   "source": [
    "Q1:"
   ],
   "metadata": {
    "collapsed": false
   },
   "id": "84316775c64dfe0"
  },
  {
   "cell_type": "code",
   "outputs": [
    {
     "name": "stdout",
     "output_type": "stream",
     "text": [
      "0.31\n"
     ]
    }
   ],
   "source": [
    "import math\n",
    "def calc_f1_score ( tp , fp , fn ) :\n",
    "    # Your code here\n",
    "    precision = tp/(tp+fp)\n",
    "    recall = tp/(tp+fn)\n",
    "    f1 = 2*precision*recall/(precision+recall)\n",
    "    return f1\n",
    "# End your code\n",
    "\n",
    "assert round ( calc_f1_score ( tp =2 , fp =3 , fn =5) , 2) == 0.33\n",
    "print ( round ( calc_f1_score ( tp =2 , fp =4 , fn =5) , 2) )"
   ],
   "metadata": {
    "collapsed": false,
    "ExecuteTime": {
     "end_time": "2024-06-10T04:22:28.122976Z",
     "start_time": "2024-06-10T04:22:28.118555Z"
    }
   },
   "id": "627f8accfaee5375",
   "execution_count": 1
  },
  {
   "cell_type": "markdown",
   "source": [
    "Q2:"
   ],
   "metadata": {
    "collapsed": false
   },
   "id": "a4c4c69e91e85adb"
  },
  {
   "cell_type": "code",
   "outputs": [
    {
     "name": "stdout",
     "output_type": "stream",
     "text": [
      "True\n",
      "False\n"
     ]
    }
   ],
   "source": [
    "import math\n",
    "def is_number ( n ) :\n",
    "    # Your code here\n",
    "    try:\n",
    "        int(n)\n",
    "        return True\n",
    "    except ValueError:\n",
    "        return False\n",
    "    # End your code\n",
    "\n",
    "assert is_number (3) == 1.0\n",
    "assert is_number (' -2a') == 0.0\n",
    "print ( is_number (1) )\n",
    "print ( is_number ('n') )"
   ],
   "metadata": {
    "collapsed": false,
    "ExecuteTime": {
     "end_time": "2024-06-10T04:25:00.355876Z",
     "start_time": "2024-06-10T04:25:00.352545Z"
    }
   },
   "id": "9336b698a68149fb",
   "execution_count": 4
  },
  {
   "cell_type": "markdown",
   "source": [
    "Q3:"
   ],
   "metadata": {
    "collapsed": false
   },
   "id": "9098097fc5715b72"
  },
  {
   "cell_type": "code",
   "outputs": [
    {
     "name": "stdout",
     "output_type": "stream",
     "text": [
      "0.0\n"
     ]
    }
   ],
   "source": [
    "x = -2.0\n",
    "if x <=0:\n",
    "    y = 0.0\n",
    "else :\n",
    "    y = x\n",
    "print ( y )"
   ],
   "metadata": {
    "collapsed": false,
    "ExecuteTime": {
     "end_time": "2024-06-10T04:25:43.813625Z",
     "start_time": "2024-06-10T04:25:43.810759Z"
    }
   },
   "id": "d5ab31ce8928c3fa",
   "execution_count": 6
  },
  {
   "cell_type": "markdown",
   "source": [
    "Q4"
   ],
   "metadata": {
    "collapsed": false
   },
   "id": "97446b273c5a3a6d"
  },
  {
   "cell_type": "code",
   "outputs": [
    {
     "name": "stdout",
     "output_type": "stream",
     "text": [
      "0.88\n"
     ]
    }
   ],
   "source": [
    "import math\n",
    "def calc_sig ( x ) :\n",
    "    # Your code here\n",
    "    sigmoid = 1/(1+math.exp(-x))\n",
    "    return sigmoid\n",
    "    # End your code\n",
    "\n",
    "assert round ( calc_sig (3) , 2) ==0.95\n",
    "print ( round ( calc_sig (2) , 2) )"
   ],
   "metadata": {
    "collapsed": false,
    "ExecuteTime": {
     "end_time": "2024-06-10T04:25:59.078542Z",
     "start_time": "2024-06-10T04:25:59.073866Z"
    }
   },
   "id": "65f05779c3e71d43",
   "execution_count": 7
  },
  {
   "cell_type": "markdown",
   "source": [
    "Q5"
   ],
   "metadata": {
    "collapsed": false
   },
   "id": "c4518a3d0a2e87d8"
  },
  {
   "cell_type": "code",
   "outputs": [
    {
     "name": "stdout",
     "output_type": "stream",
     "text": [
      "-0.01\n"
     ]
    }
   ],
   "source": [
    "import math\n",
    "def calc_elu ( x ) :\n",
    "    # Your code here\n",
    "    if x <= 0:\n",
    "        alpha = 0.01\n",
    "        elu = alpha*(math.exp(x) - 1)\n",
    "    else:\n",
    "        elu = x\n",
    "    return elu\n",
    "    # End your code\n",
    "\n",
    "assert round ( calc_elu (1) ) ==1\n",
    "print ( round ( calc_elu ( -1) , 2) )"
   ],
   "metadata": {
    "collapsed": false,
    "ExecuteTime": {
     "end_time": "2024-06-10T04:26:11.039316Z",
     "start_time": "2024-06-10T04:26:11.034910Z"
    }
   },
   "id": "771c57e3c31c566c",
   "execution_count": 8
  },
  {
   "cell_type": "markdown",
   "source": [
    "Q6"
   ],
   "metadata": {
    "collapsed": false
   },
   "id": "9db4b86595191b18"
  },
  {
   "cell_type": "code",
   "outputs": [
    {
     "name": "stdout",
     "output_type": "stream",
     "text": [
      "0.95\n"
     ]
    }
   ],
   "source": [
    "import math\n",
    "def calc_activation_func (x , act_name ) :\n",
    "    # Your code here\n",
    "    alpha = 0.01\n",
    "    if act_name == 'sigmoid':\n",
    "        act_func = 1/(1+math.exp(-x))\n",
    "    elif act_name == 'elu':\n",
    "        if x <= 0:\n",
    "            act_func = alpha(math.exp(x) - 1)\n",
    "        else:\n",
    "            act_func = x\n",
    "    elif act_name == 'relu':\n",
    "        if x <= 0:\n",
    "            act_func = 0\n",
    "        else:\n",
    "            act_func = x\n",
    "    return act_func\n",
    "    # End your code\n",
    "assert calc_activation_func ( x = 1 , act_name =\"relu\") == 1\n",
    "print ( round ( calc_activation_func (x = 3 , act_name =\"sigmoid\") , 2) )"
   ],
   "metadata": {
    "collapsed": false,
    "ExecuteTime": {
     "end_time": "2024-06-10T04:26:35.998200Z",
     "start_time": "2024-06-10T04:26:35.992651Z"
    }
   },
   "id": "e1f62cf454dc2002",
   "execution_count": 9
  },
  {
   "cell_type": "markdown",
   "source": [
    "Q7"
   ],
   "metadata": {
    "collapsed": false
   },
   "id": "90ceb04bcdd46be9"
  },
  {
   "cell_type": "code",
   "outputs": [
    {
     "name": "stdout",
     "output_type": "stream",
     "text": [
      "7\n"
     ]
    }
   ],
   "source": [
    "def calc_ae (y , y_hat ) :\n",
    "    # Your code here\n",
    "    error = abs(y-y_hat)\n",
    "    return error\n",
    "    # End your code\n",
    "\n",
    "y = 1\n",
    "y_hat = 6\n",
    "assert calc_ae (y , y_hat ) ==5\n",
    "y = 2\n",
    "y_hat = 9\n",
    "print ( calc_ae (y , y_hat ) )"
   ],
   "metadata": {
    "collapsed": false,
    "ExecuteTime": {
     "end_time": "2024-06-10T04:26:54.188446Z",
     "start_time": "2024-06-10T04:26:54.182914Z"
    }
   },
   "id": "7c7a8bf328fd433c",
   "execution_count": 10
  },
  {
   "cell_type": "markdown",
   "source": [
    "Q8"
   ],
   "metadata": {
    "collapsed": false
   },
   "id": "b0fbc51ef59958ed"
  },
  {
   "cell_type": "code",
   "outputs": [
    {
     "name": "stdout",
     "output_type": "stream",
     "text": [
      "1\n"
     ]
    }
   ],
   "source": [
    "def calc_se (y , y_hat ) :\n",
    "    # Your code here\n",
    "    error = (y-y_hat)**2\n",
    "    return error\n",
    "    # End your code\n",
    "y = 4\n",
    "y_hat = 2\n",
    "assert calc_se (y , y_hat ) == 4\n",
    "print ( calc_se (2 , 1) )"
   ],
   "metadata": {
    "collapsed": false,
    "ExecuteTime": {
     "end_time": "2024-06-10T04:27:26.810816Z",
     "start_time": "2024-06-10T04:27:26.805906Z"
    }
   },
   "id": "3df35a57e7b449af",
   "execution_count": 11
  },
  {
   "cell_type": "markdown",
   "source": [
    "Q9"
   ],
   "metadata": {
    "collapsed": false
   },
   "id": "c4c23a55caac42f7"
  },
  {
   "cell_type": "code",
   "outputs": [
    {
     "name": "stdout",
     "output_type": "stream",
     "text": [
      "-1.0\n"
     ]
    }
   ],
   "source": [
    "def approx_cos (x , n ) :\n",
    "    # Your code here\n",
    "    approx = 0\n",
    "    for i in range(n):\n",
    "        cos = (-1)**i * (x**(2*i))/(math.factorial(2*i))\n",
    "        approx += cos\n",
    "    return approx\n",
    "    # End your code\n",
    "\n",
    "assert round ( approx_cos ( x =1 , n =10) , 2) == 0.54\n",
    "print ( round ( approx_cos ( x =3.14 , n =10) , 2) )"
   ],
   "metadata": {
    "collapsed": false,
    "ExecuteTime": {
     "end_time": "2024-06-10T04:27:37.905467Z",
     "start_time": "2024-06-10T04:27:37.902551Z"
    }
   },
   "id": "d4098961bcabbb6e",
   "execution_count": 12
  },
  {
   "cell_type": "markdown",
   "source": [
    "Q10"
   ],
   "metadata": {
    "collapsed": false
   },
   "id": "f9d76a4760384f11"
  },
  {
   "cell_type": "code",
   "outputs": [
    {
     "name": "stdout",
     "output_type": "stream",
     "text": [
      "0.0016\n"
     ]
    }
   ],
   "source": [
    "def approx_sin (x , n ) :\n",
    "    # Your code here\n",
    "    approx = 0\n",
    "    for i in range(n):\n",
    "        sin = (-1)**i * (x**(2*i+1))/(math.factorial(2*i+1))\n",
    "        approx += sin\n",
    "    return approx\n",
    "    # End your code\n",
    "\n",
    "assert round ( approx_sin ( x =1 , n =10) , 4) ==0.8415\n",
    "print ( round ( approx_sin ( x =3.14 , n =10) , 4) )"
   ],
   "metadata": {
    "collapsed": false,
    "ExecuteTime": {
     "end_time": "2024-06-10T04:27:55.630641Z",
     "start_time": "2024-06-10T04:27:55.626645Z"
    }
   },
   "id": "64a5419d65281f5a",
   "execution_count": 13
  },
  {
   "cell_type": "markdown",
   "source": [
    "Q11"
   ],
   "metadata": {
    "collapsed": false
   },
   "id": "b656dc30ca423b81"
  },
  {
   "cell_type": "code",
   "outputs": [
    {
     "name": "stdout",
     "output_type": "stream",
     "text": [
      "11.53\n"
     ]
    }
   ],
   "source": [
    "def approx_sinh (x , n ) :\n",
    "    # Your code here\n",
    "    approx = 0\n",
    "    for i in range(n):\n",
    "        sinh = (x**(2*i+1))/math.factorial(2*i+1)\n",
    "        approx += sinh\n",
    "    return approx\n",
    "    # End your code\n",
    "\n",
    "assert round ( approx_sinh ( x =1 , n =10) , 2) ==1.18\n",
    "print ( round ( approx_sinh ( x =3.14 , n =10) , 2) )"
   ],
   "metadata": {
    "collapsed": false,
    "ExecuteTime": {
     "end_time": "2024-06-10T04:28:07.807536Z",
     "start_time": "2024-06-10T04:28:07.804616Z"
    }
   },
   "id": "efdb72290578b25e",
   "execution_count": 14
  },
  {
   "cell_type": "markdown",
   "source": [
    "Q12"
   ],
   "metadata": {
    "collapsed": false
   },
   "id": "75a69a8aa92e682e"
  },
  {
   "cell_type": "code",
   "outputs": [
    {
     "name": "stdout",
     "output_type": "stream",
     "text": [
      "11.57\n"
     ]
    }
   ],
   "source": [
    "def approx_cosh (x , n ) :\n",
    "    # Your code here\n",
    "    approx = 0\n",
    "    for i in range(n):\n",
    "        cosh = (x**(2*i))/math.factorial(2*i)\n",
    "        approx += cosh\n",
    "    return approx\n",
    "    # End your code\n",
    "assert round ( approx_cosh ( x =1 , n =10) , 2) ==1.54\n",
    "print ( round ( approx_cosh ( x =3.14 , n =10) , 2) )"
   ],
   "metadata": {
    "collapsed": false,
    "ExecuteTime": {
     "end_time": "2024-06-10T04:28:18.955282Z",
     "start_time": "2024-06-10T04:28:18.952199Z"
    }
   },
   "id": "c93697014c4ad7f2",
   "execution_count": 15
  },
  {
   "cell_type": "markdown",
   "source": [
    "Q13"
   ],
   "metadata": {
    "collapsed": false
   },
   "id": "f68cec33b4dc7f3e"
  },
  {
   "cell_type": "code",
   "outputs": [],
   "source": [
    "# (A)\n",
    "def md_nre_single_sample (y , y_hat , n , p) :\n",
    "    y_root = y ** (1/ n )\n",
    "    y_hat_root = y_hat ** (1/ n )\n",
    "    difference = y_root - y_hat_root\n",
    "    loss = difference ** p\n",
    "    return loss\n",
    "\n",
    "# (B)\n",
    "def md_nre_single_sample1 (y , y_hat , n , p ) :\n",
    "    y_root = y ** (1/ n )\n",
    "    y_hat_root = y_hat ** (1/2)\n",
    "    difference = y_root - y_hat_root\n",
    "    loss = difference ** p\n",
    "    return loss\n",
    "\n",
    "# (C)\n",
    "def md_nre_single_sample2 (y , y_hat , n , p ) :\n",
    "    y_root = y ** (1/ n )\n",
    "    y_hat_root = y_hat ** (1/ n )\n",
    "    difference = y_root / y_hat_root\n",
    "    loss = difference ** p\n",
    "    return loss\n",
    "\n",
    "# (D)\n",
    "def md_nre_single_sample3 (y , y_hat , n , p ) :\n",
    "    y_root = y ** (1/ n )\n",
    "    y_hat_root = y_hat ** (1/ n )\n",
    "    difference = y_root - y_hat_root\n",
    "    loss = difference\n",
    "    return loss"
   ],
   "metadata": {
    "collapsed": false,
    "ExecuteTime": {
     "end_time": "2024-06-10T04:28:32.262240Z",
     "start_time": "2024-06-10T04:28:32.257921Z"
    }
   },
   "id": "82165c2ecc36a571",
   "execution_count": 16
  }
 ],
 "metadata": {
  "kernelspec": {
   "display_name": "Python 3",
   "language": "python",
   "name": "python3"
  },
  "language_info": {
   "codemirror_mode": {
    "name": "ipython",
    "version": 2
   },
   "file_extension": ".py",
   "mimetype": "text/x-python",
   "name": "python",
   "nbconvert_exporter": "python",
   "pygments_lexer": "ipython2",
   "version": "2.7.6"
  }
 },
 "nbformat": 4,
 "nbformat_minor": 5
}

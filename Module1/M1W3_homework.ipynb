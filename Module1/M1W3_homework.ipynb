{
  "nbformat": 4,
  "nbformat_minor": 0,
  "metadata": {
    "colab": {
      "provenance": []
    },
    "kernelspec": {
      "name": "python3",
      "display_name": "Python 3"
    },
    "language_info": {
      "name": "python"
    }
  },
  "cells": [
    {
      "cell_type": "markdown",
      "source": [
        "Q1"
      ],
      "metadata": {
        "id": "5LMLei_eEhTc"
      }
    },
    {
      "cell_type": "code",
      "execution_count": 1,
      "metadata": {
        "colab": {
          "base_uri": "https://localhost:8080/"
        },
        "id": "o9kjFArzEfs0",
        "outputId": "2e928a6f-47f7-4ae0-84d0-a35e8fc48494"
      },
      "outputs": [
        {
          "output_type": "execute_result",
          "data": {
            "text/plain": [
              "tensor([0.0900, 0.2447, 0.6652])"
            ]
          },
          "metadata": {},
          "execution_count": 1
        }
      ],
      "source": [
        "import torch\n",
        "import torch . nn as nn\n",
        "\n",
        "data = torch . Tensor ([1 , 2 , 3])\n",
        "softmax_function = nn . Softmax ( dim =0)\n",
        "output = softmax_function ( data )\n",
        "assert round ( output [0]. item () , 2) == 0.09\n",
        "output"
      ]
    },
    {
      "cell_type": "markdown",
      "source": [
        "Q2"
      ],
      "metadata": {
        "id": "qck74IFTEmz8"
      }
    },
    {
      "cell_type": "code",
      "source": [
        "import torch\n",
        "import torch . nn as nn\n",
        "\n",
        "class MySoftmax ( nn . Module ) :\n",
        "  def __init__ ( self ) :\n",
        "    super () . __init__ ()\n",
        "\n",
        "  def forward ( self , x ) :\n",
        "    ### Your Code Here\n",
        "    exp_x = torch.exp(x)\n",
        "    sum_exp_x = torch.sum(exp_x)\n",
        "    softmax_output = exp_x / sum_exp_x\n",
        "    return softmax_output\n",
        "    ### End Code Here\n",
        "\n",
        "data = torch.Tensor ([5 , 2 , 4])\n",
        "my_softmax = MySoftmax ()\n",
        "output = my_softmax ( data )\n",
        "assert round ( output [ -1]. item () , 2) == 0.26\n",
        "output"
      ],
      "metadata": {
        "colab": {
          "base_uri": "https://localhost:8080/"
        },
        "id": "mmclC11REnRF",
        "outputId": "216620cc-0f53-4931-d7a8-7745b4500301"
      },
      "execution_count": 2,
      "outputs": [
        {
          "output_type": "execute_result",
          "data": {
            "text/plain": [
              "tensor([0.7054, 0.0351, 0.2595])"
            ]
          },
          "metadata": {},
          "execution_count": 2
        }
      ]
    },
    {
      "cell_type": "markdown",
      "source": [
        "Q3"
      ],
      "metadata": {
        "id": "GFnpe773FIXH"
      }
    },
    {
      "cell_type": "code",
      "source": [
        "import torch\n",
        "import torch . nn as nn\n",
        "\n",
        "class MySoftmax ( nn . Module ) :\n",
        "  def __init__ ( self ) :\n",
        "    super () . __init__ ()\n",
        "\n",
        "  def forward ( self , x ) :\n",
        "    ### Your Code Here\n",
        "    max_x = torch.max(x)\n",
        "    exp_x = torch.exp(x - max_x)\n",
        "    sum_exp_x = torch.sum(exp_x)\n",
        "    softmax_output = exp_x / sum_exp_x\n",
        "    return softmax_output\n",
        "    ### End Code Here\n",
        "\n",
        "data = torch . Tensor ([1 , 2 , 300000000])\n",
        "my_softmax = MySoftmax ()\n",
        "output = my_softmax ( data )\n",
        "assert round ( output [0]. item () , 2) == 0.0\n",
        "output"
      ],
      "metadata": {
        "colab": {
          "base_uri": "https://localhost:8080/"
        },
        "id": "kQGSE3UpFI3Y",
        "outputId": "70195c97-09d2-46f4-ceb8-56b1f613ad99"
      },
      "execution_count": 6,
      "outputs": [
        {
          "output_type": "execute_result",
          "data": {
            "text/plain": [
              "tensor([0., 0., 1.])"
            ]
          },
          "metadata": {},
          "execution_count": 6
        }
      ]
    },
    {
      "cell_type": "markdown",
      "source": [
        "Q4"
      ],
      "metadata": {
        "id": "c8qeHvMiGLJt"
      }
    },
    {
      "cell_type": "code",
      "source": [
        "import torch\n",
        "import torch . nn as nn\n",
        "\n",
        "class SoftmaxStable ( nn . Module ):\n",
        "  def __init__ ( self ) :\n",
        "    super () . __init__ ()\n",
        "\n",
        "  def forward ( self , x ) :\n",
        "    x_max = torch .max(x , dim =0 , keepdims = True )\n",
        "    x_exp = torch . exp ( x - x_max . values )\n",
        "    partition = x_exp .sum (0 , keepdims = True )\n",
        "    return x_exp / partition\n",
        "\n",
        "data = torch . Tensor ([1 , 2 , 3])\n",
        "softmax_stable = SoftmaxStable ()\n",
        "output = softmax_stable ( data )\n",
        "assert round ( output [ -1]. item () , 2) == 0.67\n",
        "output"
      ],
      "metadata": {
        "colab": {
          "base_uri": "https://localhost:8080/"
        },
        "id": "xbmwaVl1GLjt",
        "outputId": "25d95b7e-6a7a-4552-8ec4-c26ddc3b93af"
      },
      "execution_count": 7,
      "outputs": [
        {
          "output_type": "execute_result",
          "data": {
            "text/plain": [
              "tensor([0.0900, 0.2447, 0.6652])"
            ]
          },
          "metadata": {},
          "execution_count": 7
        }
      ]
    },
    {
      "cell_type": "markdown",
      "source": [
        "Q5"
      ],
      "metadata": {
        "id": "loTPtr9bGVcx"
      }
    },
    {
      "cell_type": "code",
      "source": [
        "from abc import ABC , abstractmethod\n",
        "\n",
        "class Person ( ABC ) :\n",
        "  def __init__ ( self , name :str , yob :int ) :\n",
        "    self . _name = name\n",
        "    self . _yob = yob\n",
        "\n",
        "  def get_yob ( self ) :\n",
        "    return self . _yob\n",
        "\n",
        "  @abstractmethod\n",
        "  def describe ( self ) :\n",
        "    pass\n",
        "\n",
        "class Student ( Person ) :\n",
        "  def __init__ ( self , name :str , yob :int , grade :str) :\n",
        "    ### Your Code Here\n",
        "    super().__init__(name, yob)\n",
        "    self._grade = grade\n",
        "    ### End Code Here\n",
        "\n",
        "  def describe ( self ) :\n",
        "    ### Your Code Here\n",
        "    print(f\"Name: {self._name}, Year of Birth: {self._yob}, Grade: {self._grade}\")\n",
        "    ### End Code Here\n",
        "\n",
        "student1 = Student ( name =\" studentZ2023 \", yob =2011 , grade =\"6\")\n",
        "assert student1 . _yob == 2011\n",
        "student1 . describe ()"
      ],
      "metadata": {
        "colab": {
          "base_uri": "https://localhost:8080/"
        },
        "id": "sxFuqFa8GV55",
        "outputId": "b4b2385b-e51e-418a-8e86-e88bb7ba0b48"
      },
      "execution_count": 10,
      "outputs": [
        {
          "output_type": "stream",
          "name": "stdout",
          "text": [
            "Name:  studentZ2023 , Year of Birth: 2011, Grade: 6\n"
          ]
        }
      ]
    },
    {
      "cell_type": "markdown",
      "source": [
        "Q6"
      ],
      "metadata": {
        "id": "6Yuayn4wG1e4"
      }
    },
    {
      "cell_type": "code",
      "source": [
        "from abc import ABC , abstractmethod\n",
        "\n",
        "class Person ( ABC ) :\n",
        "  def __init__ ( self , name :str , yob :int ) :\n",
        "    self . _name = name\n",
        "    self . _yob = yob\n",
        "\n",
        "  def get_yob ( self ) :\n",
        "    return self . _yob\n",
        "\n",
        "  @abstractmethod\n",
        "  def describe ( self ) :\n",
        "    pass\n",
        "\n",
        "class Teacher ( Person ) :\n",
        "  def __init__ ( self , name :str , yob :int , subject : str) :\n",
        "    ### Your Code Here\n",
        "    super().__init__(name, yob)\n",
        "    self._subject = subject\n",
        "    ### End Code Here\n",
        "\n",
        "  def describe ( self ) :\n",
        "    ### Your Code Here\n",
        "    print(f\"Name: {self._name}, Year of Birth: {self._yob}, Subject: {self._subject}\")\n",
        "    ### End Code Here\n",
        "\n",
        "teacher1 = Teacher ( name =\" teacherZ2023 \", yob =1991 , subject =\" History \")\n",
        "assert teacher1 . _yob == 1991\n",
        "teacher1 . describe ()"
      ],
      "metadata": {
        "colab": {
          "base_uri": "https://localhost:8080/"
        },
        "id": "6HNNSr3AG1-b",
        "outputId": "9b9a2637-5916-45e0-d2f1-f17fd5f2f66b"
      },
      "execution_count": 11,
      "outputs": [
        {
          "output_type": "stream",
          "name": "stdout",
          "text": [
            "Name:  teacherZ2023 , Year of Birth: 1991, Subject:  History \n"
          ]
        }
      ]
    },
    {
      "cell_type": "markdown",
      "source": [
        "Q7"
      ],
      "metadata": {
        "id": "YgVq-VNsHWzY"
      }
    },
    {
      "cell_type": "code",
      "source": [
        "from abc import ABC , abstractmethod\n",
        "\n",
        "class Person ( ABC ) :\n",
        "  def __init__ ( self , name :str , yob :int ) :\n",
        "    self . _name = name\n",
        "    self . _yob = yob\n",
        "\n",
        "  def get_yob ( self ) :\n",
        "    return self . _yob\n",
        "\n",
        "  @abstractmethod\n",
        "  def describe ( self ) :\n",
        "    pass\n",
        "\n",
        "class Doctor ( Person ) :\n",
        "  def __init__ ( self , name :str , yob :int , specialist :str) :\n",
        "    ### Your Code Here\n",
        "    super().__init__(name, yob)\n",
        "    self._specialist = specialist\n",
        "    ### End Code Here\n",
        "\n",
        "  def describe ( self ) :\n",
        "    ### Your Code Here\n",
        "    print(f\"Name: {self._name}, Year of Birth: {self._yob}, Specialist: {self._specialist}\")\n",
        "    ### End Code Here\n",
        "\n",
        "doctor1 = Doctor ( name =\" doctorZ2023 \", yob =1981 , specialist =\" Endocrinologists \")\n",
        "assert doctor1 . _yob == 1981\n",
        "doctor1 . describe ()"
      ],
      "metadata": {
        "colab": {
          "base_uri": "https://localhost:8080/"
        },
        "id": "HUorM4DlHXRf",
        "outputId": "f82a3c98-47ad-4245-8c98-517a34fb8519"
      },
      "execution_count": 13,
      "outputs": [
        {
          "output_type": "stream",
          "name": "stdout",
          "text": [
            "Name:  doctorZ2023 , Year of Birth: 1981, Specialist:  Endocrinologists \n"
          ]
        }
      ]
    },
    {
      "cell_type": "markdown",
      "source": [
        "Q8"
      ],
      "metadata": {
        "id": "Vq5VhjppHokE"
      }
    },
    {
      "cell_type": "code",
      "source": [
        "class Ward :\n",
        "  def __init__ ( self , name : str) :\n",
        "    self . __name = name\n",
        "    self . __listPeople = list ()\n",
        "\n",
        "  def add_person ( self , person : Person ) :\n",
        "    self . __listPeople . append ( person )\n",
        "\n",
        "  def describe ( self ) :\n",
        "    print ( f\" Ward Name : { self . __name }\")\n",
        "    for p in self . __listPeople :\n",
        "      p.describe ()\n",
        "\n",
        "  def count_doctor ( self ) :\n",
        "    ### Your Code Here\n",
        "    count = 0\n",
        "    for p in self.__listPeople:\n",
        "      if isinstance(p, Doctor):\n",
        "        count += 1\n",
        "    return count\n",
        "    ### End Code Here\n",
        "\n",
        "student1 = Student ( name =\" studentA \", yob =2010 , grade =\"7\")\n",
        "teacher1 = Teacher ( name =\" teacherA \", yob =1969 , subject =\" Math \")\n",
        "teacher2 = Teacher ( name =\" teacherB \", yob =1995 , subject =\" History \")\n",
        "doctor1 = Doctor ( name =\" doctorA \", yob =1945 , specialist =\" Endocrinologists \")\n",
        "\n",
        "doctor2 = Doctor ( name =\" doctorB \", yob =1975 , specialist =\" Cardiologists \")\n",
        "ward1 = Ward ( name =\" Ward1 \")\n",
        "ward1 . add_person ( student1 )\n",
        "ward1 . add_person ( teacher1 )\n",
        "ward1 . add_person ( teacher2 )\n",
        "ward1 . add_person ( doctor1 )\n",
        "ward1 . add_person ( doctor2 )\n",
        "assert ward1 . count_doctor () == 2\n",
        "ward1 . count_doctor ()\n"
      ],
      "metadata": {
        "colab": {
          "base_uri": "https://localhost:8080/"
        },
        "id": "2f_oTk3gHpEe",
        "outputId": "1fe9d340-4c78-4309-df22-7948edcb0c0d"
      },
      "execution_count": 24,
      "outputs": [
        {
          "output_type": "execute_result",
          "data": {
            "text/plain": [
              "2"
            ]
          },
          "metadata": {},
          "execution_count": 24
        }
      ]
    },
    {
      "cell_type": "markdown",
      "source": [
        "Q9"
      ],
      "metadata": {
        "id": "GTNku2EzJIgL"
      }
    },
    {
      "cell_type": "code",
      "source": [
        "class MyStack :\n",
        "  def __init__ ( self , capacity ) :\n",
        "    self . __capacity = capacity\n",
        "    self . __stack = []\n",
        "\n",
        "  def is_full ( self ) :\n",
        "    return len( self . __stack ) == self . __capacity\n",
        "\n",
        "  def push ( self , value ) :\n",
        "    ### Your Code Here\n",
        "    if not self.is_full():\n",
        "      self.__stack.append(value)\n",
        "    ### End Code Here\n",
        "\n",
        "stack1 = MyStack ( capacity =5)\n",
        "stack1 . push (1)\n",
        "assert stack1 . is_full () == False\n",
        "stack1 . push (2)\n",
        "print ( stack1 . is_full () )"
      ],
      "metadata": {
        "colab": {
          "base_uri": "https://localhost:8080/"
        },
        "id": "_2D_ja6HJJpY",
        "outputId": "6f687180-f9be-495c-b1d8-32baaa11f2a2"
      },
      "execution_count": 25,
      "outputs": [
        {
          "output_type": "stream",
          "name": "stdout",
          "text": [
            "False\n"
          ]
        }
      ]
    },
    {
      "cell_type": "markdown",
      "source": [
        "Q10"
      ],
      "metadata": {
        "id": "rRCMsw-zJYbd"
      }
    },
    {
      "cell_type": "code",
      "source": [
        "class MyStack :\n",
        "  def __init__ ( self , capacity ) :\n",
        "    self . __capacity = capacity\n",
        "    self . __stack = []\n",
        "\n",
        "  def is_full ( self ) :\n",
        "    return len( self . __stack ) == self . __capacity\n",
        "\n",
        "  def push ( self , value ) :\n",
        "    ### Your Code Here\n",
        "    if not self.is_full():\n",
        "      self.__stack.append(value)\n",
        "    ### End Code Here\n",
        "\n",
        "  def top ( self ) :\n",
        "    ### Your Code Here\n",
        "    if not self.__stack:\n",
        "      return None\n",
        "    return self.__stack[-1]\n",
        "    # End Code Here\n",
        "\n",
        "stack1 = MyStack ( capacity =5)\n",
        "stack1 . push (1)\n",
        "assert stack1 . is_full () == False\n",
        "stack1 . push (2)\n",
        "print ( stack1 . top () )"
      ],
      "metadata": {
        "colab": {
          "base_uri": "https://localhost:8080/"
        },
        "id": "Q6CTshdUJZM4",
        "outputId": "325c149d-c1b4-4579-a0ff-0b1804e26eb3"
      },
      "execution_count": 26,
      "outputs": [
        {
          "output_type": "stream",
          "name": "stdout",
          "text": [
            "2\n"
          ]
        }
      ]
    },
    {
      "cell_type": "markdown",
      "source": [
        "Q11"
      ],
      "metadata": {
        "id": "-P3ggpxNJoIr"
      }
    },
    {
      "cell_type": "code",
      "source": [
        "class MyQueue :\n",
        "  def __init__ ( self , capacity ) :\n",
        "    self . __capacity = capacity\n",
        "    self . __queue = []\n",
        "\n",
        "  def is_full ( self ) :\n",
        "    return len( self . __queue ) == self . __capacity\n",
        "\n",
        "  def enqueue ( self , value ) :\n",
        "    ### Your Code Here\n",
        "    if not self.is_full():\n",
        "      self.__queue.append(value)\n",
        "    ### End Code Here\n",
        "\n",
        "queue1 = MyQueue ( capacity =5)\n",
        "queue1 . enqueue (1)\n",
        "assert queue1 . is_full () == False\n",
        "queue1 . enqueue (2)\n",
        "print ( queue1 . is_full () )"
      ],
      "metadata": {
        "colab": {
          "base_uri": "https://localhost:8080/"
        },
        "id": "TEsptsTbJon2",
        "outputId": "9cf771c3-72cd-4ddd-a966-d9bdc156b606"
      },
      "execution_count": 27,
      "outputs": [
        {
          "output_type": "stream",
          "name": "stdout",
          "text": [
            "False\n"
          ]
        }
      ]
    },
    {
      "cell_type": "markdown",
      "source": [
        "Q12"
      ],
      "metadata": {
        "id": "0I_0pfdkJ2fg"
      }
    },
    {
      "cell_type": "code",
      "source": [
        "class MyQueue :\n",
        "  def __init__ ( self , capacity ) :\n",
        "    self . __capacity = capacity\n",
        "    self . __queue = []\n",
        "\n",
        "  def isEmpty ( self ) :\n",
        "    return len( self . __queue ) == 0\n",
        "\n",
        "  def is_full ( self ) :\n",
        "    return len( self . __queue ) == self . __capacity\n",
        "\n",
        "  def dequeue ( self ) :\n",
        "    if not self.isEmpty():\n",
        "      return self.__queue.pop(0)\n",
        "\n",
        "  def enqueue ( self , value ) :\n",
        "    if not self.is_full():\n",
        "      self.__queue.append(value)\n",
        "\n",
        "  def front ( self ) :\n",
        "    ### Your Code Here\n",
        "    if not self.isEmpty():\n",
        "      return self.__queue[0]\n",
        "    ### End Code Here\n",
        "\n",
        "queue1 = MyQueue ( capacity =5)\n",
        "queue1 . enqueue (1)\n",
        "assert queue1 . is_full () == False\n",
        "queue1 . enqueue (2)\n",
        "print ( queue1 . front () )"
      ],
      "metadata": {
        "colab": {
          "base_uri": "https://localhost:8080/"
        },
        "id": "MxRsyj7fJ21S",
        "outputId": "3ccdcacc-494a-44fd-ae81-b6530e2df2c0"
      },
      "execution_count": 28,
      "outputs": [
        {
          "output_type": "stream",
          "name": "stdout",
          "text": [
            "1\n"
          ]
        }
      ]
    }
  ]
}
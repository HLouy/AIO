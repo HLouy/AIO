{
  "nbformat": 4,
  "nbformat_minor": 0,
  "metadata": {
    "colab": {
      "provenance": []
    },
    "kernelspec": {
      "name": "python3",
      "display_name": "Python 3"
    },
    "language_info": {
      "name": "python"
    }
  },
  "cells": [
    {
      "cell_type": "markdown",
      "source": [
        "Q1: Hoàn thành chương trình sau với mô tả bài toán từ câu I.1. Đầu ra của chương trình dưới đây là gì?"
      ],
      "metadata": {
        "id": "0aA3jajcy3nK"
      }
    },
    {
      "cell_type": "code",
      "source": [
        "def max_kernel ( num_list , k ) :\n",
        "  result = []\n",
        "\n",
        "# Your Code Here\n",
        "  for i in range ( len ( num_list ) - k + 1 ) :\n",
        "    result.append ( max ( num_list [ i : i + k ] ) )\n",
        "# End Code Here\n",
        "\n",
        "  return result\n",
        "\n",
        "assert max_kernel ([3 , 4 , 5 , 1 , -44] , 3) == [5 , 5 , 5]\n",
        "num_list = [3 , 4 , 5 , 1 , -44 , 5 ,10 , 12 ,33 , 1]\n",
        "k = 3\n",
        "print ( max_kernel ( num_list , k ) )"
      ],
      "metadata": {
        "colab": {
          "base_uri": "https://localhost:8080/"
        },
        "id": "LXbZAzHwy5kM",
        "outputId": "b06ac626-9f36-481a-fe49-f39b08f1d8c9"
      },
      "execution_count": 1,
      "outputs": [
        {
          "output_type": "stream",
          "name": "stdout",
          "text": [
            "[5, 5, 5, 5, 10, 12, 33, 33]\n"
          ]
        }
      ]
    },
    {
      "cell_type": "markdown",
      "source": [
        "Q2: Hoàn thành chương trình sau với mô tả bài toán từ câu I.2. Đầu ra của chương trình dưới đây là gì?"
      ],
      "metadata": {
        "id": "PZuP31gHzKmt"
      }
    },
    {
      "cell_type": "code",
      "source": [
        "def character_count ( word ) :\n",
        "  character_statistic = {}\n",
        "\n",
        "# Your Code Here\n",
        "  for char in word :\n",
        "    if char in character_statistic :\n",
        "      character_statistic [ char ] += 1\n",
        "    else :\n",
        "      character_statistic [ char ] = 1\n",
        "# End Code Here\n",
        "  return character_statistic\n",
        "\n",
        "assert character_count(\"Baby\") == {\"B\": 1 , \"a\": 1 , \"b\": 1 , \"y\": 1}\n",
        "print( character_count (\"smiles\") )"
      ],
      "metadata": {
        "colab": {
          "base_uri": "https://localhost:8080/"
        },
        "id": "YToBNCDkzLyv",
        "outputId": "6f143671-ab48-4a78-d315-304ebab65001"
      },
      "execution_count": 4,
      "outputs": [
        {
          "output_type": "stream",
          "name": "stdout",
          "text": [
            "{'s': 2, 'm': 1, 'i': 1, 'l': 1, 'e': 1}\n"
          ]
        }
      ]
    },
    {
      "cell_type": "markdown",
      "source": [
        "Q3: Hoàn thành chương trình sau với mô tả bài toán từ câu I.3. Đầu ra của chương trình dưới đây là gì?"
      ],
      "metadata": {
        "id": "UScflaSmziOb"
      }
    },
    {
      "cell_type": "code",
      "source": [
        "! gdown https://drive.google.com/uc?id=1IBScGdW2xlNsc9v5zSAya548kNgiOrko\n",
        "\n",
        "def count_word ( file_path ) :\n",
        "  counter = {}\n",
        "\n",
        "# Your Code Here\n",
        "  for line in open ( file_path ) :\n",
        "    for word in line . split () :\n",
        "      if word in counter :\n",
        "        counter [ word ] += 1\n",
        "      else :\n",
        "        counter [ word ] = 1\n",
        "# End Code Here\n",
        "\n",
        "  return counter\n",
        "file_path = \"/content/P1_data.txt\"\n",
        "result = count_word ( file_path )\n",
        "assert result [\"who\"] == 3\n",
        "print ( result [\"man\"])"
      ],
      "metadata": {
        "colab": {
          "base_uri": "https://localhost:8080/"
        },
        "id": "ge9_78jNzhx5",
        "outputId": "a1d63422-4e1c-41ab-83bf-0fbfc75ede64"
      },
      "execution_count": 8,
      "outputs": [
        {
          "output_type": "stream",
          "name": "stdout",
          "text": [
            "Downloading...\n",
            "From: https://drive.google.com/uc?id=1IBScGdW2xlNsc9v5zSAya548kNgiOrko\n",
            "To: /content/P1_data.txt\n",
            "\r  0% 0.00/747 [00:00<?, ?B/s]\r100% 747/747 [00:00<00:00, 3.16MB/s]\n",
            "6\n"
          ]
        }
      ]
    },
    {
      "cell_type": "markdown",
      "source": [
        "Q4: Hoàn thành chương trình sau với mô tả bài toán từ câu I.4. Đầu ra của chương trình dưới đây là gì?"
      ],
      "metadata": {
        "id": "G0uh7zuP0ApF"
      }
    },
    {
      "cell_type": "code",
      "source": [
        "def levenshtein_distance(token1,token2) :\n",
        "# Your Code Here\n",
        "  distance = 0\n",
        "  m = len ( token1 )\n",
        "  n = len ( token2 )\n",
        "  dp = [ [ 0 for i in range ( n + 1 ) ] for j in range ( m + 1 ) ]\n",
        "  for i in range ( m + 1 ) :\n",
        "    dp [ i ] [ 0 ] = i\n",
        "  for j in range ( n + 1 ) :\n",
        "    dp [ 0 ] [ j ] = j\n",
        "  for i in range ( 1 , m + 1 ) :\n",
        "    for j in range ( 1 , n + 1 ) :\n",
        "      if token1 [ i - 1 ] == token2 [ j - 1 ] :\n",
        "        dp [ i ] [ j ] = dp [ i - 1 ] [ j - 1 ]\n",
        "      else :\n",
        "        dp [ i ] [ j ] = 1 + min ( dp [ i - 1 ] [ j ] , dp [ i ] [ j - 1 ] , dp [ i - 1 ] [ j - 1 ] )\n",
        "  distance = dp [ m ] [ n ]\n",
        "# End Code Here\n",
        "\n",
        "  return distance\n",
        "\n",
        "assert levenshtein_distance (\"hi\", \"hello\") == 4.0\n",
        "print ( levenshtein_distance (\"hola\", \"hello\") )"
      ],
      "metadata": {
        "colab": {
          "base_uri": "https://localhost:8080/"
        },
        "id": "Ge1whKua0BDt",
        "outputId": "858106c5-a4ac-4a36-b1b4-a77ddbfa19b2"
      },
      "execution_count": 16,
      "outputs": [
        {
          "output_type": "stream",
          "name": "stdout",
          "text": [
            "3\n"
          ]
        }
      ]
    },
    {
      "cell_type": "markdown",
      "source": [
        "Q5: Hoàn thành chương trình sau. Đầu ra của chương trình dưới đây là gì?"
      ],
      "metadata": {
        "id": "nNZNYanW1VI9"
      }
    },
    {
      "cell_type": "code",
      "source": [
        "def check_the_number ( N ) :\n",
        "  list_of_numbers = []\n",
        "  result = \"\"\n",
        "  for i in range (1 , 5) :\n",
        "  # Your code here\n",
        "    for j in range ( 1 , 5 ) :\n",
        "      for k in range ( 1 , 5 ) :\n",
        "        for l in range ( 1 , 5 ) :\n",
        "          list_of_numbers.append ( i * 1000 + j * 100 + k * 10 + l )\n",
        "  # End Code Here\n",
        "  #Su dung append them i vao trong list_of_number\n",
        "  if N in list_of_numbers :\n",
        "    results = \" True \"\n",
        "  if N not in list_of_numbers :\n",
        "    results = \" False \"\n",
        "  return results\n",
        "\n",
        "N = 7\n",
        "assert check_the_number ( N ) == \" False \"\n",
        "N = 2\n",
        "results = check_the_number ( N )\n",
        "print ( results )"
      ],
      "metadata": {
        "colab": {
          "base_uri": "https://localhost:8080/"
        },
        "id": "2WF9nDEj1Vq4",
        "outputId": "9d96dea3-cc21-407c-c4af-c50ae56b95f7"
      },
      "execution_count": 15,
      "outputs": [
        {
          "output_type": "stream",
          "name": "stdout",
          "text": [
            " False \n"
          ]
        }
      ]
    },
    {
      "cell_type": "markdown",
      "source": [
        "Q6: Hãy hoàn thành chương trình dưới đây. Đầu ra của chương trình là gì?"
      ],
      "metadata": {
        "id": "srjE6Qyc2T8U"
      }
    },
    {
      "cell_type": "code",
      "source": [
        "def my_function ( data , max , min) :\n",
        "  result = []\n",
        "  for i in data :\n",
        "  # Your code here\n",
        "    if i < min :\n",
        "      result . append ( min )\n",
        "  # End Code Here\n",
        "  # Neu i < min thi them min vao result\n",
        "    elif i > max :\n",
        "      result . append ( max )\n",
        "    else :\n",
        "      result . append ( i )\n",
        "  return result\n",
        "my_list = [5 , 2 , 5 , 0 , 1]\n",
        "max = 1\n",
        "min = 0\n",
        "assert my_function (max = max , min = min , data = my_list ) == [1 , 1 , 1 , 0 , 1]\n",
        "my_list = [10 , 2 , 5 , 0 , 1]\n",
        "max = 2\n",
        "min = 1\n",
        "print ( my_function (max = max , min = min , data = my_list ) )"
      ],
      "metadata": {
        "colab": {
          "base_uri": "https://localhost:8080/"
        },
        "id": "bnuihtqP2Ub-",
        "outputId": "49ea0844-1b8f-463f-b631-3ecdc284233c"
      },
      "execution_count": 17,
      "outputs": [
        {
          "output_type": "stream",
          "name": "stdout",
          "text": [
            "[2, 2, 2, 1, 1]\n"
          ]
        }
      ]
    },
    {
      "cell_type": "markdown",
      "source": [
        "Q7: Hãy hoàn thành chương trình dưới đây. Đầu ra của chương trình là gì?"
      ],
      "metadata": {
        "id": "zpbdE1qs2xA1"
      }
    },
    {
      "cell_type": "code",
      "source": [
        "def my_function (x , y ) :\n",
        "  # Your code here\n",
        "  #Su dung extend de noi y vao x\n",
        "  # return x\n",
        "  x . extend ( y )\n",
        "  return x\n",
        "\n",
        "list_num1 = ['a', 2 , 5]\n",
        "list_num2 = [1 , 1]\n",
        "list_num3 = [0 , 0]\n",
        "9\n",
        "assert my_function ( list_num1 , my_function ( list_num2 , list_num3 ) ) == ['a', 2 , 5 , 1 , 1 ,0 , 0]\n",
        "\n",
        "list_num1 = [1 , 2]\n",
        "list_num2 = [3 , 4]\n",
        "list_num3 = [0 , 0]\n",
        "\n",
        "print ( my_function ( list_num1 , my_function ( list_num2 , list_num3 ) ) )"
      ],
      "metadata": {
        "colab": {
          "base_uri": "https://localhost:8080/"
        },
        "id": "SctNaPSs2xgR",
        "outputId": "09227950-63ef-4596-97c0-361e6bb1353b"
      },
      "execution_count": 18,
      "outputs": [
        {
          "output_type": "stream",
          "name": "stdout",
          "text": [
            "[1, 2, 3, 4, 0, 0]\n"
          ]
        }
      ]
    },
    {
      "cell_type": "markdown",
      "source": [
        "Q8: Hãy hoàn thành chương trình tìm phần tử có giá trị nhỏ nhất trong một list dưới đây. Đầu ra của chương trình là gì?"
      ],
      "metadata": {
        "id": "ACD8G1aV3Azh"
      }
    },
    {
      "cell_type": "code",
      "source": [
        "def my_function ( n ) :\n",
        "# Your code here\n",
        "  i = 0\n",
        "  j = len(n) - i - 1\n",
        "  while i < len(n):\n",
        "    if n[i] < n[j]:\n",
        "      x = n[i]\n",
        "      j -= 1\n",
        "    else:\n",
        "      x = n[j]\n",
        "      i += 1\n",
        "  return x\n",
        "# End Code Here\n",
        "my_list = [1 , 22 , 93 , -100]\n",
        "assert my_function ( my_list ) == -100\n",
        "\n",
        "my_list = [1 , 2 , 3 , -1]\n",
        "print ( my_function ( my_list ) )"
      ],
      "metadata": {
        "colab": {
          "base_uri": "https://localhost:8080/"
        },
        "id": "UAm8bvPh3BU1",
        "outputId": "ad0c8d28-4eef-42c6-b4e5-d87ea0386820"
      },
      "execution_count": 51,
      "outputs": [
        {
          "output_type": "stream",
          "name": "stdout",
          "text": [
            "-1\n"
          ]
        }
      ]
    },
    {
      "cell_type": "markdown",
      "source": [
        "Q9: Hãy hoàn thành chương trình tìm phần tử có giá trị lớn nhất trong một list dưới đây. Đầu ra của chương trình là gì?"
      ],
      "metadata": {
        "id": "NivNXyIg3-oS"
      }
    },
    {
      "cell_type": "code",
      "source": [
        "def my_function ( n ) :\n",
        "  # Your code here\n",
        "  i = 0\n",
        "  j = len(n) - i -1\n",
        "  while i < len(n):\n",
        "    if n[i] > n[j]:\n",
        "      x = n[i]\n",
        "      j -= 1\n",
        "    else:\n",
        "      x = n[j]\n",
        "      i += 1\n",
        "  return x\n",
        "my_list = [1001 , 9 , 100 , 0]\n",
        "assert my_function ( my_list ) == 1001\n",
        "\n",
        "my_list = [1 , 9 , 9 , 0]\n",
        "print ( my_function ( my_list ) )"
      ],
      "metadata": {
        "colab": {
          "base_uri": "https://localhost:8080/"
        },
        "id": "vIrvrodl3_Vm",
        "outputId": "cbb9f2f5-4b4b-4559-a1d7-82ede136053c"
      },
      "execution_count": 52,
      "outputs": [
        {
          "output_type": "stream",
          "name": "stdout",
          "text": [
            "9\n"
          ]
        }
      ]
    },
    {
      "cell_type": "markdown",
      "source": [
        "Q10: Hãy hoàn thành chương trình dưới đây. Đầu ra của chương trình là gì?"
      ],
      "metadata": {
        "id": "D5aDl6dc7sfv"
      }
    },
    {
      "cell_type": "code",
      "source": [
        "def My_function ( integers , number = 1) :\n",
        "  any = False\n",
        "  for i in integers :\n",
        "    if i == number :\n",
        "      any = True\n",
        "  return any\n",
        "# Your code here : Thuc hien duyet tung phan tu trong integers , so sanh tung phan tu voi number , neu bang nhau tra ve True , khac nhau tra ve false\n",
        "# vi du: integers = [1 , 2 , 3] , number = 2 , ban se tao ra list [False ,True , False ] )\n",
        "\n",
        "my_list = [1 , 3 , 9 , 4]\n",
        "assert My_function ( my_list , -1) == False\n",
        "\n",
        "my_list = [1 , 2 , 3 , 4]\n",
        "print ( My_function ( my_list , 2) )"
      ],
      "metadata": {
        "colab": {
          "base_uri": "https://localhost:8080/"
        },
        "id": "IR1o6vyo7tKq",
        "outputId": "8dcfcca0-eeb0-4f81-abcd-259e2b0333c0"
      },
      "execution_count": 54,
      "outputs": [
        {
          "output_type": "stream",
          "name": "stdout",
          "text": [
            "True\n"
          ]
        }
      ]
    },
    {
      "cell_type": "markdown",
      "source": [
        "Q11: Hãy hoàn thành chương trình dưới đây. Đầu ra của chương trình là gì?"
      ],
      "metadata": {
        "id": "QsO_kgSw79fy"
      }
    },
    {
      "cell_type": "code",
      "source": [
        "def my_function ( list_nums = [0 , 1 , 2]) :\n",
        "  var = 0\n",
        "  for i in list_nums :\n",
        "    var += i\n",
        "  return var/len(list_nums) # Your code here : Tra ve gia tri trung binh cua list bang cach chia var cho so luong phan tu trong list_mums\n",
        "\n",
        "assert my_function ([4 , 6 , 8]) == 6\n",
        "print ( my_function () )"
      ],
      "metadata": {
        "colab": {
          "base_uri": "https://localhost:8080/"
        },
        "id": "pbIQrTXC79_M",
        "outputId": "ccbce316-f32c-46d1-851e-c1920d607512"
      },
      "execution_count": 57,
      "outputs": [
        {
          "output_type": "stream",
          "name": "stdout",
          "text": [
            "1.0\n"
          ]
        }
      ]
    },
    {
      "cell_type": "markdown",
      "source": [
        "Q12: Hãy hoàn thành chương trình dưới đây. Đầu ra của chương trình dưới đây là gì?"
      ],
      "metadata": {
        "id": "OlaVkXEa8x90"
      }
    },
    {
      "cell_type": "code",
      "source": [
        "def my_function ( data ) :\n",
        "  var = []\n",
        "  for i in data :\n",
        "  # Your code here\n",
        "    if i % 3 == 0 :\n",
        "      var . append ( i )\n",
        "  # Neu i chia het cho 3 thi them i vao list var\n",
        "  return var\n",
        "\n",
        "assert my_function ([3 , 9 , 4 , 5]) == [3 , 9]\n",
        "print ( my_function ([1 , 2 , 3 , 5 , 6]) )"
      ],
      "metadata": {
        "colab": {
          "base_uri": "https://localhost:8080/"
        },
        "id": "b1fXyMtU801-",
        "outputId": "96691466-e523-4d87-9e30-3729ae77bcbb"
      },
      "execution_count": 58,
      "outputs": [
        {
          "output_type": "stream",
          "name": "stdout",
          "text": [
            "[3, 6]\n"
          ]
        }
      ]
    },
    {
      "cell_type": "markdown",
      "source": [
        "Q13: Hãy hoàn thành chương trình sau đây thực hiện tính giai thừa của 1 số. Đầu ra của chương trình dưới đây là gì?"
      ],
      "metadata": {
        "id": "Q1_lskKZ8_qK"
      }
    },
    {
      "cell_type": "code",
      "source": [
        "def my_function ( y ) :\n",
        "  var = 1\n",
        "  while ( y > 1) :\n",
        "  # Your code here\n",
        "    var *= y\n",
        "    y -= 1\n",
        "  # End Code Here\n",
        "  return var\n",
        "assert my_function (8) == 40320\n",
        "print ( my_function (4) )"
      ],
      "metadata": {
        "colab": {
          "base_uri": "https://localhost:8080/"
        },
        "id": "Sb-LH58U9B2r",
        "outputId": "aab6994b-ec29-4edc-94f4-102e36ff615e"
      },
      "execution_count": 59,
      "outputs": [
        {
          "output_type": "stream",
          "name": "stdout",
          "text": [
            "24\n"
          ]
        }
      ]
    },
    {
      "cell_type": "markdown",
      "source": [
        "Q14: Hãy hoàn thành chương trình đảo ngược chuỗi dưới đây. Đầu ra của chương trình là gì?"
      ],
      "metadata": {
        "id": "e9U7_Lvf9J37"
      }
    },
    {
      "cell_type": "code",
      "source": [
        "def my_function ( x ) :\n",
        "  # your code here\n",
        "  i = len(x) - 1\n",
        "  invert_word = \"\"\n",
        "  while i >= 0:\n",
        "    invert_word += x[i]\n",
        "    i -= 1\n",
        "  return invert_word\n",
        "# End Code Here\n",
        "x = 'I can do it'\n",
        "assert my_function (x ) ==\"ti od nac I\"\n",
        "\n",
        "x = 'apricot'\n",
        "print ( my_function ( x ) )"
      ],
      "metadata": {
        "colab": {
          "base_uri": "https://localhost:8080/"
        },
        "id": "iUgWeYtG9Mrg",
        "outputId": "ed08fae4-ce35-427d-f22b-5e4a8556569d"
      },
      "execution_count": 76,
      "outputs": [
        {
          "output_type": "stream",
          "name": "stdout",
          "text": [
            "tocirpa\n"
          ]
        }
      ]
    },
    {
      "cell_type": "markdown",
      "source": [
        "Q15: Hãy hoàn thành chương trình dưới đây. Đầu ra của chương trình là gì?"
      ],
      "metadata": {
        "id": "gFCvsvZ8-qB7"
      }
    },
    {
      "cell_type": "code",
      "source": [
        "def function_helper ( x ) :\n",
        "  # Your code here\n",
        "  if x > 0:\n",
        "    return \"T\"\n",
        "  else:\n",
        "    return \"N\"\n",
        "  # Neu x >0 tra ve ’T ’, nguoc lai tra ve ’N’\n",
        "\n",
        "def my_function ( data ) :\n",
        "  res = [ function_helper ( x ) for x in data ]\n",
        "  return res\n",
        "\n",
        "data = [10 , 0 , -10 , -1]\n",
        "assert my_function ( data ) == ['T', 'N', 'N', 'N']\n",
        "\n",
        "data = [2 , 3 , 5 , -1]\n",
        "print ( my_function ( data ) )"
      ],
      "metadata": {
        "colab": {
          "base_uri": "https://localhost:8080/"
        },
        "id": "Fo9d9K8O-si8",
        "outputId": "d912fb5a-82e0-42f9-a213-bf0b8cf5bdf7"
      },
      "execution_count": 89,
      "outputs": [
        {
          "output_type": "stream",
          "name": "stdout",
          "text": [
            "['T', 'T', 'T', 'N']\n"
          ]
        }
      ]
    },
    {
      "cell_type": "markdown",
      "source": [
        "Q16: Hãy hoàn thành chương trình dưới đây để loại bỏ những phần tử trùng nhau. Đầu ra của chương trình là gì?"
      ],
      "metadata": {
        "id": "MAwAxsJuAru6"
      }
    },
    {
      "cell_type": "code",
      "source": [
        "def function_helper (x , data ) :\n",
        "  for i in data :\n",
        "  # Your code here\n",
        "    if x == i :\n",
        "      return 0\n",
        "  # Neu x == i thi return 0\n",
        "  return 1\n",
        "\n",
        "def my_function ( data ) :\n",
        "  res = []\n",
        "  for i in data :\n",
        "    if function_helper (i , res ) :\n",
        "      res . append ( i )\n",
        "  return res\n",
        "\n",
        "lst = [10 , 10 , 9 , 7 , 7]\n",
        "assert my_function ( lst ) ==[10 , 9 , 7]\n",
        "\n",
        "lst = [9 , 9 , 8 , 1 , 1]\n",
        "print ( my_function ( lst ) )"
      ],
      "metadata": {
        "colab": {
          "base_uri": "https://localhost:8080/"
        },
        "id": "cFOaYJqDAuK2",
        "outputId": "cf9235bb-a9a6-4a22-b6ab-ee050e03232b"
      },
      "execution_count": 90,
      "outputs": [
        {
          "output_type": "stream",
          "name": "stdout",
          "text": [
            "[9, 8, 1]\n"
          ]
        }
      ]
    }
  ]
}